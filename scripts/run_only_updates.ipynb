{
 "cells": [
  {
   "cell_type": "code",
   "execution_count": 11,
   "metadata": {},
   "outputs": [],
   "source": [
    "data = ''\n",
    "with open(\"/DS/DSG/work/newlogs/2_updates_only/b_1k-10M.txt\") as f:\n",
    "    data = f.read()\n"
   ]
  },
  {
   "cell_type": "code",
   "execution_count": 12,
   "metadata": {},
   "outputs": [
    {
     "name": "stdout",
     "output_type": "stream",
     "text": [
      "1000 164907\n",
      "10000 124560\n",
      "100000 113990\n",
      "1000000 112480\n",
      "10000000 111352\n",
      "100 328571\n",
      "100000000 111281\n"
     ]
    }
   ],
   "source": [
    "import re\n",
    "\n",
    "iterations = data.split('END\\n')[:-1]\n",
    "metrics = []\n",
    "regex_batch_size = r\"Batch update with batch_size: (\\d+)\"\n",
    "regex_time = r\"Update application time \\(in ms\\): (\\d+)\"\n",
    "\n",
    "for iteration in iterations:\n",
    "    # print(iteration)\n",
    "    m = re.search(regex_batch_size, iteration)\n",
    "    # print(m[0], m[1])\n",
    "    batch_size = int(m[1])\n",
    "    m = re.search(regex_time, iteration)\n",
    "    # print(m[0], m[1])\n",
    "    time = int(m[1])\n",
    "    print(batch_size, time)"
   ]
  },
  {
   "cell_type": "code",
   "execution_count": null,
   "metadata": {},
   "outputs": [],
   "source": []
  }
 ],
 "metadata": {
  "kernelspec": {
   "display_name": "Python 3",
   "language": "python",
   "name": "python3"
  },
  "language_info": {
   "codemirror_mode": {
    "name": "ipython",
    "version": 3
   },
   "file_extension": ".py",
   "mimetype": "text/x-python",
   "name": "python",
   "nbconvert_exporter": "python",
   "pygments_lexer": "ipython3",
   "version": "3.9.2"
  },
  "orig_nbformat": 4
 },
 "nbformat": 4,
 "nbformat_minor": 2
}
