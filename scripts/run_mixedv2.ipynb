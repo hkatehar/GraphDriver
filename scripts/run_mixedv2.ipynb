{
 "cells": [
  {
   "cell_type": "code",
   "execution_count": 28,
   "metadata": {},
   "outputs": [],
   "source": [
    "data = ''\n",
    "with open(\"/DS/DSG/work/newlogs/3_v2/02_w8-128_c1-31.txt\") as f:\n",
    "    data = f.read()\n"
   ]
  },
  {
   "cell_type": "code",
   "execution_count": 29,
   "metadata": {},
   "outputs": [],
   "source": [
    "iterations = data.split('END\\n')[:-1]\n",
    "\n",
    "# print(iterations[0])"
   ]
  },
  {
   "cell_type": "code",
   "execution_count": 30,
   "metadata": {},
   "outputs": [],
   "source": [
    "import re\n",
    "regex_writer_threads = r\"Number of writer Threads: (\\d+)\"\n",
    "regex_cores = r\"Update cores: (\\d+)\"\n",
    "regex_exp_time = r\"Experiment Time \\(in ms\\): (\\d+)\"\n",
    "regex_min = r\"Minimum: (\\d+)\"\n",
    "regex_max = r\"Maximum: (\\d+)\"\n",
    "regex_sum= r\"Sum: (\\d+)\"\n",
    "regex_average = r\"Average: (\\d+(?:\\.\\d+)?)\"\n",
    "regex_median = r\"Median: (\\d+(?:\\.\\d+)?)\"\n",
    "regex_p90 = r\"90th Percentile: (\\d+)\"\n",
    "regex_p99 = r\"99th Percentile: (\\d+)\"\n",
    "regex_count = r\"Count: (\\d+)\"\n",
    "\n",
    "def parse_iteration(iteration):\n",
    "    d = {}\n",
    "\n",
    "    m = re.search(regex_writer_threads, iteration)\n",
    "    writer_threads = int(m[1])\n",
    "    d['writer_threads'] = writer_threads\n",
    "\n",
    "    m = re.search(regex_cores, iteration)\n",
    "    cores = int(m[1])\n",
    "    d['cores'] = cores\n",
    "\n",
    "    m = re.search(regex_exp_time, iteration)\n",
    "    exp_time = int(m[1])\n",
    "    d['exp_time'] = exp_time\n",
    "\n",
    "    m = re.search(regex_min, iteration)\n",
    "    min = int(m[1])\n",
    "    d['min'] = min\n",
    "\n",
    "    m = re.search(regex_max, iteration)\n",
    "    max = int(m[1])\n",
    "    d['max'] = max\n",
    "\n",
    "    m = re.search(regex_sum, iteration)\n",
    "    sum = int(m[1])\n",
    "    d['sum'] = sum\n",
    "\n",
    "    m = re.search(regex_average, iteration)\n",
    "    average = float(m[1])\n",
    "    d['average'] = average\n",
    "\n",
    "    m = re.search(regex_median, iteration)\n",
    "    median = float(m[1])\n",
    "    d['median'] = median\n",
    "\n",
    "    m = re.search(regex_p90, iteration)\n",
    "    p90 = int(m[1])\n",
    "    d['p90'] = p90\n",
    "\n",
    "    m = re.search(regex_p99, iteration)\n",
    "    p99 = int(m[1])\n",
    "    d['p99'] = p99\n",
    "\n",
    "    m = re.search(regex_count, iteration)\n",
    "    count = int(m[1])\n",
    "    d['count'] = count\n",
    "\n",
    "    return d"
   ]
  },
  {
   "cell_type": "code",
   "execution_count": 31,
   "metadata": {},
   "outputs": [],
   "source": [
    "data = []\n",
    "for iteration in iterations:\n",
    "    data.append(parse_iteration(iteration))\n",
    "\n",
    "# data"
   ]
  },
  {
   "cell_type": "code",
   "execution_count": 32,
   "metadata": {},
   "outputs": [],
   "source": [
    "import pandas as pd\n",
    "\n",
    "df = pd.DataFrame(data)\n",
    "df.sort_values(['writer_threads', 'cores'])\n",
    "\n",
    "df.to_excel('output_file.xlsx', index=False)"
   ]
  }
 ],
 "metadata": {
  "kernelspec": {
   "display_name": "Python 3",
   "language": "python",
   "name": "python3"
  },
  "language_info": {
   "codemirror_mode": {
    "name": "ipython",
    "version": 3
   },
   "file_extension": ".py",
   "mimetype": "text/x-python",
   "name": "python",
   "nbconvert_exporter": "python",
   "pygments_lexer": "ipython3",
   "version": "3.9.2"
  },
  "orig_nbformat": 4
 },
 "nbformat": 4,
 "nbformat_minor": 2
}
